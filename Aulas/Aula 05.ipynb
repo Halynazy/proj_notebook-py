{
  "metadata": {
    "language_info": {
      "codemirror_mode": {
        "name": "python",
        "version": 3
      },
      "file_extension": ".py",
      "mimetype": "text/x-python",
      "name": "python",
      "nbconvert_exporter": "python",
      "pygments_lexer": "ipython3",
      "version": "3.8"
    },
    "kernelspec": {
      "name": "python",
      "display_name": "Python (Pyodide)",
      "language": "python"
    }
  },
  "nbformat_minor": 4,
  "nbformat": 4,
  "cells": [
    {
      "cell_type": "markdown",
      "source": "01-Crie uma lista com quatros nomes, quatro endereços e quatro telefones. Mostre a lista de forma formatada ",
      "metadata": {}
    },
    {
      "cell_type": "code",
      "source": "nome=[\n    \"Gustavo\",\n    \"Ana Luiza\",\n    \"Carlos\",\n    \"Maria\"\n]\nidade=[\n    17,20,50,50\n    ]\nfone=[\n    \"99940-7070\",\n    \"93729-6060\",\n    \"97425-2020\",\n    \"97242-2034\"\n    ]\nx = 0 \nprint(\"{:<10}{:<10}{:<0}\".format(\"Nome\",\"Idade\",\"Telefone\"))\nprint(\"--------------------------\")\nwhile(x<=3):\n    print(\"{:<12}{:<4}{:<0}\".format(nome[x],idade[x],fone[x]))\n    x+= 1 ",
      "metadata": {
        "trusted": true
      },
      "execution_count": 8,
      "outputs": [
        {
          "name": "stdout",
          "text": "Nome      Idade     Telefone\n--------------------------\nGustavo     17  99940-7070\nAna Luiza   20  93729-6060\nCarlos      50  97425-2020\nMaria       50  97242-2034\n",
          "output_type": "stream"
        }
      ]
    },
    {
      "cell_type": "markdown",
      "source": "02- Crie um programa que mostre tres endereços, tres números, tres bairros e tres cidades:",
      "metadata": {}
    },
    {
      "cell_type": "code",
      "source": "Ruas=[\n    \"São Thiago\",\n    \"Somália\",\n    \"Portugal\",\n    \"Lírio\"\n]\nNúmeros=[\n    81,19,380,75\n    ]\n\nBairros=[\n    \"Celani\",\n    \"Nações\",\n    \"primavera\",\n    \"Casa Verde\"\n    ]\nCidades=[\n    \"São Paulo\",\n    \"Salto\",\n    \"São Patrique\",\n    \"São Roque\"\n    ]\nx = 0 \nprint(\"{:<12}{:<10}{:<12}{:<0}\".format(\"Ruas\",\"Números\",\"Bairros\",\"Cidades\"))\nprint(\"----------------------------------------------\")\nwhile(x<=2):\n    print(\"{:<12}{:<10}{:<12}{:<0}\".format(Ruas[x],Números[x],Bairros[x],Cidades[x]))\n    x+= 1 ",
      "metadata": {
        "trusted": true
      },
      "execution_count": 26,
      "outputs": [
        {
          "name": "stdout",
          "text": "Ruas        Números   Bairros     Cidades\n----------------------------------------------\nSão Thiago  81        Celani      São Paulo\nSomália     19        Nações      Salto\nPortugal    380       primavera   São Patrique\n",
          "output_type": "stream"
        }
      ]
    },
    {
      "cell_type": "code",
      "source": "",
      "metadata": {},
      "execution_count": null,
      "outputs": []
    }
  ]
}